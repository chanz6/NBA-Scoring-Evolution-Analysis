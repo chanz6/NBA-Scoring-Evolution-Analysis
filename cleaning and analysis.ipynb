{
 "cells": [
  {
   "cell_type": "code",
   "execution_count": 1,
   "id": "a0447b38-dc91-4548-938b-67b54f84d8c1",
   "metadata": {},
   "outputs": [],
   "source": [
    "import pandas as pd\n",
    "import numpy as np\n",
    "from matplotlib import pyplot as plt\n",
    "\n",
    "data = pd.read_excel('nba_player_data.xlsx')"
   ]
  },
  {
   "cell_type": "code",
   "execution_count": 2,
   "id": "e4eaf4e9-3c64-4e8d-b12d-3f46f6207fa5",
   "metadata": {},
   "outputs": [
    {
     "data": {
      "text/html": [
       "<div>\n",
       "<style scoped>\n",
       "    .dataframe tbody tr th:only-of-type {\n",
       "        vertical-align: middle;\n",
       "    }\n",
       "\n",
       "    .dataframe tbody tr th {\n",
       "        vertical-align: top;\n",
       "    }\n",
       "\n",
       "    .dataframe thead th {\n",
       "        text-align: right;\n",
       "    }\n",
       "</style>\n",
       "<table border=\"1\" class=\"dataframe\">\n",
       "  <thead>\n",
       "    <tr style=\"text-align: right;\">\n",
       "      <th></th>\n",
       "      <th>Year</th>\n",
       "      <th>Season_type</th>\n",
       "      <th>PLAYER_ID</th>\n",
       "      <th>RANK</th>\n",
       "      <th>PLAYER</th>\n",
       "      <th>TEAM_ID</th>\n",
       "      <th>TEAM</th>\n",
       "      <th>GP</th>\n",
       "      <th>MIN</th>\n",
       "      <th>FGM</th>\n",
       "      <th>...</th>\n",
       "      <th>REB</th>\n",
       "      <th>AST</th>\n",
       "      <th>STL</th>\n",
       "      <th>BLK</th>\n",
       "      <th>TOV</th>\n",
       "      <th>PF</th>\n",
       "      <th>PTS</th>\n",
       "      <th>EFF</th>\n",
       "      <th>AST_TOV</th>\n",
       "      <th>STL_TOV</th>\n",
       "    </tr>\n",
       "  </thead>\n",
       "  <tbody>\n",
       "    <tr>\n",
       "      <th>5823</th>\n",
       "      <td>2020-21</td>\n",
       "      <td>Regular%20Season</td>\n",
       "      <td>203493</td>\n",
       "      <td>132</td>\n",
       "      <td>Reggie Bullock Jr.</td>\n",
       "      <td>1610612752</td>\n",
       "      <td>NYK</td>\n",
       "      <td>65</td>\n",
       "      <td>1949</td>\n",
       "      <td>248</td>\n",
       "      <td>...</td>\n",
       "      <td>223</td>\n",
       "      <td>99</td>\n",
       "      <td>52</td>\n",
       "      <td>11</td>\n",
       "      <td>45</td>\n",
       "      <td>146</td>\n",
       "      <td>709</td>\n",
       "      <td>731</td>\n",
       "      <td>2.20</td>\n",
       "      <td>1.16</td>\n",
       "    </tr>\n",
       "    <tr>\n",
       "      <th>3001</th>\n",
       "      <td>2016-17</td>\n",
       "      <td>Regular%20Season</td>\n",
       "      <td>203114</td>\n",
       "      <td>249</td>\n",
       "      <td>Khris Middleton</td>\n",
       "      <td>1610612749</td>\n",
       "      <td>MIL</td>\n",
       "      <td>29</td>\n",
       "      <td>889</td>\n",
       "      <td>150</td>\n",
       "      <td>...</td>\n",
       "      <td>123</td>\n",
       "      <td>99</td>\n",
       "      <td>41</td>\n",
       "      <td>7</td>\n",
       "      <td>65</td>\n",
       "      <td>79</td>\n",
       "      <td>426</td>\n",
       "      <td>437</td>\n",
       "      <td>1.52</td>\n",
       "      <td>0.63</td>\n",
       "    </tr>\n",
       "    <tr>\n",
       "      <th>5640</th>\n",
       "      <td>2019-20</td>\n",
       "      <td>Playoffs</td>\n",
       "      <td>1628449</td>\n",
       "      <td>166</td>\n",
       "      <td>Chris Boucher</td>\n",
       "      <td>1610612761</td>\n",
       "      <td>TOR</td>\n",
       "      <td>7</td>\n",
       "      <td>43</td>\n",
       "      <td>3</td>\n",
       "      <td>...</td>\n",
       "      <td>12</td>\n",
       "      <td>1</td>\n",
       "      <td>0</td>\n",
       "      <td>2</td>\n",
       "      <td>1</td>\n",
       "      <td>5</td>\n",
       "      <td>8</td>\n",
       "      <td>13</td>\n",
       "      <td>1.00</td>\n",
       "      <td>0.00</td>\n",
       "    </tr>\n",
       "    <tr>\n",
       "      <th>4863</th>\n",
       "      <td>2018-19</td>\n",
       "      <td>Playoffs</td>\n",
       "      <td>202083</td>\n",
       "      <td>130</td>\n",
       "      <td>Wesley Matthews</td>\n",
       "      <td>1610612754</td>\n",
       "      <td>IND</td>\n",
       "      <td>4</td>\n",
       "      <td>119</td>\n",
       "      <td>9</td>\n",
       "      <td>...</td>\n",
       "      <td>10</td>\n",
       "      <td>8</td>\n",
       "      <td>3</td>\n",
       "      <td>1</td>\n",
       "      <td>8</td>\n",
       "      <td>6</td>\n",
       "      <td>28</td>\n",
       "      <td>21</td>\n",
       "      <td>1.00</td>\n",
       "      <td>0.38</td>\n",
       "    </tr>\n",
       "    <tr>\n",
       "      <th>7141</th>\n",
       "      <td>2021-22</td>\n",
       "      <td>Playoffs</td>\n",
       "      <td>1629018</td>\n",
       "      <td>66</td>\n",
       "      <td>Gary Trent Jr.</td>\n",
       "      <td>1610612761</td>\n",
       "      <td>TOR</td>\n",
       "      <td>6</td>\n",
       "      <td>199</td>\n",
       "      <td>31</td>\n",
       "      <td>...</td>\n",
       "      <td>10</td>\n",
       "      <td>8</td>\n",
       "      <td>6</td>\n",
       "      <td>3</td>\n",
       "      <td>3</td>\n",
       "      <td>11</td>\n",
       "      <td>92</td>\n",
       "      <td>63</td>\n",
       "      <td>2.67</td>\n",
       "      <td>2.00</td>\n",
       "    </tr>\n",
       "    <tr>\n",
       "      <th>5226</th>\n",
       "      <td>2019-20</td>\n",
       "      <td>Regular%20Season</td>\n",
       "      <td>1628411</td>\n",
       "      <td>281</td>\n",
       "      <td>Wes Iwundu</td>\n",
       "      <td>1610612753</td>\n",
       "      <td>ORL</td>\n",
       "      <td>52</td>\n",
       "      <td>953</td>\n",
       "      <td>97</td>\n",
       "      <td>...</td>\n",
       "      <td>131</td>\n",
       "      <td>60</td>\n",
       "      <td>25</td>\n",
       "      <td>13</td>\n",
       "      <td>26</td>\n",
       "      <td>80</td>\n",
       "      <td>300</td>\n",
       "      <td>348</td>\n",
       "      <td>2.31</td>\n",
       "      <td>0.96</td>\n",
       "    </tr>\n",
       "    <tr>\n",
       "      <th>2789</th>\n",
       "      <td>2016-17</td>\n",
       "      <td>Regular%20Season</td>\n",
       "      <td>202355</td>\n",
       "      <td>37</td>\n",
       "      <td>Hassan Whiteside</td>\n",
       "      <td>1610612748</td>\n",
       "      <td>MIA</td>\n",
       "      <td>77</td>\n",
       "      <td>2513</td>\n",
       "      <td>542</td>\n",
       "      <td>...</td>\n",
       "      <td>1088</td>\n",
       "      <td>57</td>\n",
       "      <td>57</td>\n",
       "      <td>161</td>\n",
       "      <td>154</td>\n",
       "      <td>226</td>\n",
       "      <td>1309</td>\n",
       "      <td>1954</td>\n",
       "      <td>0.37</td>\n",
       "      <td>0.37</td>\n",
       "    </tr>\n",
       "    <tr>\n",
       "      <th>3453</th>\n",
       "      <td>2016-17</td>\n",
       "      <td>Playoffs</td>\n",
       "      <td>203504</td>\n",
       "      <td>209</td>\n",
       "      <td>Trey Burke</td>\n",
       "      <td>1610612764</td>\n",
       "      <td>WAS</td>\n",
       "      <td>3</td>\n",
       "      <td>20</td>\n",
       "      <td>0</td>\n",
       "      <td>...</td>\n",
       "      <td>0</td>\n",
       "      <td>5</td>\n",
       "      <td>0</td>\n",
       "      <td>0</td>\n",
       "      <td>0</td>\n",
       "      <td>2</td>\n",
       "      <td>0</td>\n",
       "      <td>1</td>\n",
       "      <td>0.00</td>\n",
       "      <td>0.00</td>\n",
       "    </tr>\n",
       "    <tr>\n",
       "      <th>4659</th>\n",
       "      <td>2018-19</td>\n",
       "      <td>Regular%20Season</td>\n",
       "      <td>1627738</td>\n",
       "      <td>456</td>\n",
       "      <td>Deyonta Davis</td>\n",
       "      <td>1610612737</td>\n",
       "      <td>ATL</td>\n",
       "      <td>9</td>\n",
       "      <td>118</td>\n",
       "      <td>15</td>\n",
       "      <td>...</td>\n",
       "      <td>36</td>\n",
       "      <td>5</td>\n",
       "      <td>3</td>\n",
       "      <td>5</td>\n",
       "      <td>3</td>\n",
       "      <td>12</td>\n",
       "      <td>36</td>\n",
       "      <td>71</td>\n",
       "      <td>1.67</td>\n",
       "      <td>1.00</td>\n",
       "    </tr>\n",
       "    <tr>\n",
       "      <th>2448</th>\n",
       "      <td>2015-16</td>\n",
       "      <td>Regular%20Season</td>\n",
       "      <td>1626154</td>\n",
       "      <td>387</td>\n",
       "      <td>RJ Hunter</td>\n",
       "      <td>1610612738</td>\n",
       "      <td>BOS</td>\n",
       "      <td>36</td>\n",
       "      <td>315</td>\n",
       "      <td>36</td>\n",
       "      <td>...</td>\n",
       "      <td>37</td>\n",
       "      <td>13</td>\n",
       "      <td>14</td>\n",
       "      <td>4</td>\n",
       "      <td>11</td>\n",
       "      <td>29</td>\n",
       "      <td>97</td>\n",
       "      <td>91</td>\n",
       "      <td>1.18</td>\n",
       "      <td>1.27</td>\n",
       "    </tr>\n",
       "  </tbody>\n",
       "</table>\n",
       "<p>10 rows × 30 columns</p>\n",
       "</div>"
      ],
      "text/plain": [
       "         Year       Season_type  PLAYER_ID  RANK              PLAYER  \\\n",
       "5823  2020-21  Regular%20Season     203493   132  Reggie Bullock Jr.   \n",
       "3001  2016-17  Regular%20Season     203114   249     Khris Middleton   \n",
       "5640  2019-20          Playoffs    1628449   166       Chris Boucher   \n",
       "4863  2018-19          Playoffs     202083   130     Wesley Matthews   \n",
       "7141  2021-22          Playoffs    1629018    66      Gary Trent Jr.   \n",
       "5226  2019-20  Regular%20Season    1628411   281          Wes Iwundu   \n",
       "2789  2016-17  Regular%20Season     202355    37    Hassan Whiteside   \n",
       "3453  2016-17          Playoffs     203504   209          Trey Burke   \n",
       "4659  2018-19  Regular%20Season    1627738   456       Deyonta Davis   \n",
       "2448  2015-16  Regular%20Season    1626154   387           RJ Hunter   \n",
       "\n",
       "         TEAM_ID TEAM  GP   MIN  FGM  ...   REB  AST  STL  BLK  TOV   PF  \\\n",
       "5823  1610612752  NYK  65  1949  248  ...   223   99   52   11   45  146   \n",
       "3001  1610612749  MIL  29   889  150  ...   123   99   41    7   65   79   \n",
       "5640  1610612761  TOR   7    43    3  ...    12    1    0    2    1    5   \n",
       "4863  1610612754  IND   4   119    9  ...    10    8    3    1    8    6   \n",
       "7141  1610612761  TOR   6   199   31  ...    10    8    6    3    3   11   \n",
       "5226  1610612753  ORL  52   953   97  ...   131   60   25   13   26   80   \n",
       "2789  1610612748  MIA  77  2513  542  ...  1088   57   57  161  154  226   \n",
       "3453  1610612764  WAS   3    20    0  ...     0    5    0    0    0    2   \n",
       "4659  1610612737  ATL   9   118   15  ...    36    5    3    5    3   12   \n",
       "2448  1610612738  BOS  36   315   36  ...    37   13   14    4   11   29   \n",
       "\n",
       "       PTS   EFF  AST_TOV  STL_TOV  \n",
       "5823   709   731     2.20     1.16  \n",
       "3001   426   437     1.52     0.63  \n",
       "5640     8    13     1.00     0.00  \n",
       "4863    28    21     1.00     0.38  \n",
       "7141    92    63     2.67     2.00  \n",
       "5226   300   348     2.31     0.96  \n",
       "2789  1309  1954     0.37     0.37  \n",
       "3453     0     1     0.00     0.00  \n",
       "4659    36    71     1.67     1.00  \n",
       "2448    97    91     1.18     1.27  \n",
       "\n",
       "[10 rows x 30 columns]"
      ]
     },
     "execution_count": 2,
     "metadata": {},
     "output_type": "execute_result"
    }
   ],
   "source": [
    "data.sample(10)"
   ]
  },
  {
   "cell_type": "code",
   "execution_count": 3,
   "id": "ced1da44-3ec5-4640-843c-c22c75a97aca",
   "metadata": {},
   "outputs": [
    {
     "data": {
      "text/plain": [
       "(7293, 30)"
      ]
     },
     "execution_count": 3,
     "metadata": {},
     "output_type": "execute_result"
    }
   ],
   "source": [
    "data.shape"
   ]
  },
  {
   "cell_type": "markdown",
   "id": "0c5a14aa-acac-41e6-9702-745fd939e8a7",
   "metadata": {},
   "source": [
    "### Data Cleaning & Analysis Preperation"
   ]
  },
  {
   "cell_type": "code",
   "execution_count": 4,
   "id": "60b14169-b6f2-4562-91e6-fe6c3be5e128",
   "metadata": {},
   "outputs": [
    {
     "name": "stdout",
     "output_type": "stream",
     "text": [
      "<class 'pandas.core.frame.DataFrame'>\n",
      "RangeIndex: 7293 entries, 0 to 7292\n",
      "Data columns (total 30 columns):\n",
      " #   Column       Non-Null Count  Dtype  \n",
      "---  ------       --------------  -----  \n",
      " 0   Year         7293 non-null   object \n",
      " 1   Season_type  7293 non-null   object \n",
      " 2   PLAYER_ID    7293 non-null   int64  \n",
      " 3   RANK         7293 non-null   int64  \n",
      " 4   PLAYER       7293 non-null   object \n",
      " 5   TEAM_ID      7293 non-null   int64  \n",
      " 6   TEAM         7293 non-null   object \n",
      " 7   GP           7293 non-null   int64  \n",
      " 8   MIN          7293 non-null   int64  \n",
      " 9   FGM          7293 non-null   int64  \n",
      " 10  FGA          7293 non-null   int64  \n",
      " 11  FG_PCT       7293 non-null   float64\n",
      " 12  FG3M         7293 non-null   int64  \n",
      " 13  FG3A         7293 non-null   int64  \n",
      " 14  FG3_PCT      7293 non-null   float64\n",
      " 15  FTM          7293 non-null   int64  \n",
      " 16  FTA          7293 non-null   int64  \n",
      " 17  FT_PCT       7293 non-null   float64\n",
      " 18  OREB         7293 non-null   int64  \n",
      " 19  DREB         7293 non-null   int64  \n",
      " 20  REB          7293 non-null   int64  \n",
      " 21  AST          7293 non-null   int64  \n",
      " 22  STL          7293 non-null   int64  \n",
      " 23  BLK          7293 non-null   int64  \n",
      " 24  TOV          7293 non-null   int64  \n",
      " 25  PF           7293 non-null   int64  \n",
      " 26  PTS          7293 non-null   int64  \n",
      " 27  EFF          7293 non-null   int64  \n",
      " 28  AST_TOV      7293 non-null   float64\n",
      " 29  STL_TOV      7293 non-null   float64\n",
      "dtypes: float64(5), int64(21), object(4)\n",
      "memory usage: 1.7+ MB\n"
     ]
    }
   ],
   "source": [
    "data.info()"
   ]
  },
  {
   "cell_type": "code",
   "execution_count": 5,
   "id": "d06f9162-5499-45aa-8f94-277e3f144f15",
   "metadata": {},
   "outputs": [],
   "source": [
    "#Drop 'RANK' & 'EFF' columns\n",
    "data.drop(columns=['RANK','EFF'], inplace=True)"
   ]
  },
  {
   "cell_type": "code",
   "execution_count": 6,
   "id": "0cf9a2ac-5dce-4dc1-b3a5-0c200f1f09b4",
   "metadata": {},
   "outputs": [],
   "source": [
    "#Create the season start year column\n",
    "data['season_start_year'] = data['Year'].str[:4].astype(int)"
   ]
  },
  {
   "cell_type": "code",
   "execution_count": 7,
   "id": "9ea2c817-ba58-4572-abf0-e32fcd32f0b6",
   "metadata": {
    "scrolled": true
   },
   "outputs": [
    {
     "data": {
      "text/plain": [
       "array(['OKC', 'LAL', 'MIA', 'HOU', 'NYK', 'GSW', 'MIL', 'POR', 'TOR',\n",
       "       'BKN', 'CHA', 'LAC', 'BOS', 'UTA', 'PHI', 'IND', 'SAS', 'ATL',\n",
       "       'CLE', 'NOH', 'DET', 'CHI', 'SAC', 'DAL', 'DEN', 'MEM', 'PHX',\n",
       "       'ORL', 'MIN', 'WAS', 'NOP'], dtype=object)"
      ]
     },
     "execution_count": 7,
     "metadata": {},
     "output_type": "execute_result"
    }
   ],
   "source": [
    "data.TEAM.unique()"
   ]
  },
  {
   "cell_type": "code",
   "execution_count": 8,
   "id": "69d89175-fd07-4a66-a40c-4a8dd6ae2e1b",
   "metadata": {},
   "outputs": [
    {
     "name": "stderr",
     "output_type": "stream",
     "text": [
      "C:\\Users\\zacha\\AppData\\Local\\Temp\\ipykernel_14984\\1414534506.py:2: FutureWarning: A value is trying to be set on a copy of a DataFrame or Series through chained assignment using an inplace method.\n",
      "The behavior will change in pandas 3.0. This inplace method will never work because the intermediate object on which we are setting values always behaves as a copy.\n",
      "\n",
      "For example, when doing 'df[col].method(value, inplace=True)', try using 'df.method({col: value}, inplace=True)' or df[col] = df[col].method(value) instead, to perform the operation inplace on the original object.\n",
      "\n",
      "\n",
      "  data['TEAM'].replace(to_replace=['NOP','NOH'], value='NO', inplace=True)\n"
     ]
    }
   ],
   "source": [
    "#Change 'NOP' & 'NOH' to represent one team\n",
    "data['TEAM'].replace(to_replace=['NOP','NOH'], value='NO', inplace=True)"
   ]
  },
  {
   "cell_type": "code",
   "execution_count": 9,
   "id": "1b5141b1-b94a-4045-9825-7e1f193aea10",
   "metadata": {
    "scrolled": true
   },
   "outputs": [
    {
     "name": "stderr",
     "output_type": "stream",
     "text": [
      "C:\\Users\\zacha\\AppData\\Local\\Temp\\ipykernel_14984\\3113285020.py:2: FutureWarning: A value is trying to be set on a copy of a DataFrame or Series through chained assignment using an inplace method.\n",
      "The behavior will change in pandas 3.0. This inplace method will never work because the intermediate object on which we are setting values always behaves as a copy.\n",
      "\n",
      "For example, when doing 'df[col].method(value, inplace=True)', try using 'df.method({col: value}, inplace=True)' or df[col] = df[col].method(value) instead, to perform the operation inplace on the original object.\n",
      "\n",
      "\n",
      "  data['Season_type'].replace('Regular%20Season','RS', inplace=True)\n"
     ]
    }
   ],
   "source": [
    "#Fix regular season\n",
    "data['Season_type'].replace('Regular%20Season','RS', inplace=True)"
   ]
  },
  {
   "cell_type": "code",
   "execution_count": 10,
   "id": "4866a54b-a69a-4ddc-9d64-d3c3a5a35d88",
   "metadata": {
    "scrolled": true
   },
   "outputs": [],
   "source": [
    "#Seperate dataframes by regular season and playoffs\n",
    "rs_df = data[data['Season_type']=='RS']\n",
    "playoffs_df = data[data['Season_type']=='Playoffs']"
   ]
  },
  {
   "cell_type": "code",
   "execution_count": 11,
   "id": "ddb39a4f-24c3-4c54-9b39-526c0150673a",
   "metadata": {},
   "outputs": [
    {
     "data": {
      "text/plain": [
       "Index(['Year', 'Season_type', 'PLAYER_ID', 'PLAYER', 'TEAM_ID', 'TEAM', 'GP',\n",
       "       'MIN', 'FGM', 'FGA', 'FG_PCT', 'FG3M', 'FG3A', 'FG3_PCT', 'FTM', 'FTA',\n",
       "       'FT_PCT', 'OREB', 'DREB', 'REB', 'AST', 'STL', 'BLK', 'TOV', 'PF',\n",
       "       'PTS', 'AST_TOV', 'STL_TOV', 'season_start_year'],\n",
       "      dtype='object')"
      ]
     },
     "execution_count": 11,
     "metadata": {},
     "output_type": "execute_result"
    }
   ],
   "source": [
    "data.columns"
   ]
  },
  {
   "cell_type": "code",
   "execution_count": 12,
   "id": "2ebfb45b-3a25-4a9a-a53c-b108d464369e",
   "metadata": {},
   "outputs": [],
   "source": [
    "#Array of columns that makes sense to aggregate\n",
    "total_cols = ['MIN','FGM','FGA','FG3M','FG3A','FTM','FTA','OREB','DREB','REB','AST','STL','BLK','TOV','PF','PTS']"
   ]
  },
  {
   "cell_type": "markdown",
   "id": "b9f7932e-ea12-4d43-b002-3198899210ce",
   "metadata": {},
   "source": [
    "### How has scoring evolved over time?"
   ]
  },
  {
   "cell_type": "code",
   "execution_count": 13,
   "id": "91ea21f6-8893-4fba-b9b6-9c1e5daabbd3",
   "metadata": {},
   "outputs": [
    {
     "data": {
      "text/html": [
       "<div>\n",
       "<style scoped>\n",
       "    .dataframe tbody tr th:only-of-type {\n",
       "        vertical-align: middle;\n",
       "    }\n",
       "\n",
       "    .dataframe tbody tr th {\n",
       "        vertical-align: top;\n",
       "    }\n",
       "\n",
       "    .dataframe thead th {\n",
       "        text-align: right;\n",
       "    }\n",
       "</style>\n",
       "<table border=\"1\" class=\"dataframe\">\n",
       "  <thead>\n",
       "    <tr style=\"text-align: right;\">\n",
       "      <th></th>\n",
       "      <th>Year</th>\n",
       "      <th>Season_type</th>\n",
       "      <th>PLAYER_ID</th>\n",
       "      <th>PLAYER</th>\n",
       "      <th>TEAM_ID</th>\n",
       "      <th>TEAM</th>\n",
       "      <th>GP</th>\n",
       "      <th>MIN</th>\n",
       "      <th>FGM</th>\n",
       "      <th>FGA</th>\n",
       "      <th>...</th>\n",
       "      <th>REB</th>\n",
       "      <th>AST</th>\n",
       "      <th>STL</th>\n",
       "      <th>BLK</th>\n",
       "      <th>TOV</th>\n",
       "      <th>PF</th>\n",
       "      <th>PTS</th>\n",
       "      <th>AST_TOV</th>\n",
       "      <th>STL_TOV</th>\n",
       "      <th>season_start_year</th>\n",
       "    </tr>\n",
       "  </thead>\n",
       "  <tbody>\n",
       "    <tr>\n",
       "      <th>5139</th>\n",
       "      <td>2019-20</td>\n",
       "      <td>RS</td>\n",
       "      <td>200782</td>\n",
       "      <td>P.J. Tucker</td>\n",
       "      <td>1610612745</td>\n",
       "      <td>HOU</td>\n",
       "      <td>72</td>\n",
       "      <td>2467</td>\n",
       "      <td>177</td>\n",
       "      <td>426</td>\n",
       "      <td>...</td>\n",
       "      <td>476</td>\n",
       "      <td>115</td>\n",
       "      <td>77</td>\n",
       "      <td>36</td>\n",
       "      <td>72</td>\n",
       "      <td>229</td>\n",
       "      <td>500</td>\n",
       "      <td>1.60</td>\n",
       "      <td>1.07</td>\n",
       "      <td>2019</td>\n",
       "    </tr>\n",
       "    <tr>\n",
       "      <th>2979</th>\n",
       "      <td>2016-17</td>\n",
       "      <td>RS</td>\n",
       "      <td>1627812</td>\n",
       "      <td>Yogi Ferrell</td>\n",
       "      <td>1610612742</td>\n",
       "      <td>DAL</td>\n",
       "      <td>46</td>\n",
       "      <td>1197</td>\n",
       "      <td>160</td>\n",
       "      <td>394</td>\n",
       "      <td>...</td>\n",
       "      <td>111</td>\n",
       "      <td>172</td>\n",
       "      <td>42</td>\n",
       "      <td>9</td>\n",
       "      <td>70</td>\n",
       "      <td>90</td>\n",
       "      <td>462</td>\n",
       "      <td>2.46</td>\n",
       "      <td>0.60</td>\n",
       "      <td>2016</td>\n",
       "    </tr>\n",
       "    <tr>\n",
       "      <th>7184</th>\n",
       "      <td>2021-22</td>\n",
       "      <td>Playoffs</td>\n",
       "      <td>1630567</td>\n",
       "      <td>Scottie Barnes</td>\n",
       "      <td>1610612761</td>\n",
       "      <td>TOR</td>\n",
       "      <td>4</td>\n",
       "      <td>133</td>\n",
       "      <td>18</td>\n",
       "      <td>42</td>\n",
       "      <td>...</td>\n",
       "      <td>36</td>\n",
       "      <td>17</td>\n",
       "      <td>4</td>\n",
       "      <td>1</td>\n",
       "      <td>5</td>\n",
       "      <td>12</td>\n",
       "      <td>51</td>\n",
       "      <td>3.40</td>\n",
       "      <td>0.80</td>\n",
       "      <td>2021</td>\n",
       "    </tr>\n",
       "    <tr>\n",
       "      <th>6182</th>\n",
       "      <td>2020-21</td>\n",
       "      <td>RS</td>\n",
       "      <td>203658</td>\n",
       "      <td>Norvel Pelle</td>\n",
       "      <td>1610612752</td>\n",
       "      <td>NYK</td>\n",
       "      <td>13</td>\n",
       "      <td>83</td>\n",
       "      <td>8</td>\n",
       "      <td>15</td>\n",
       "      <td>...</td>\n",
       "      <td>19</td>\n",
       "      <td>2</td>\n",
       "      <td>1</td>\n",
       "      <td>9</td>\n",
       "      <td>3</td>\n",
       "      <td>14</td>\n",
       "      <td>20</td>\n",
       "      <td>0.67</td>\n",
       "      <td>0.33</td>\n",
       "      <td>2020</td>\n",
       "    </tr>\n",
       "    <tr>\n",
       "      <th>6804</th>\n",
       "      <td>2021-22</td>\n",
       "      <td>RS</td>\n",
       "      <td>202083</td>\n",
       "      <td>Wesley Matthews</td>\n",
       "      <td>1610612749</td>\n",
       "      <td>MIL</td>\n",
       "      <td>49</td>\n",
       "      <td>1002</td>\n",
       "      <td>87</td>\n",
       "      <td>220</td>\n",
       "      <td>...</td>\n",
       "      <td>92</td>\n",
       "      <td>36</td>\n",
       "      <td>23</td>\n",
       "      <td>8</td>\n",
       "      <td>18</td>\n",
       "      <td>87</td>\n",
       "      <td>249</td>\n",
       "      <td>2.00</td>\n",
       "      <td>1.28</td>\n",
       "      <td>2021</td>\n",
       "    </tr>\n",
       "    <tr>\n",
       "      <th>474</th>\n",
       "      <td>2012-13</td>\n",
       "      <td>Playoffs</td>\n",
       "      <td>201142</td>\n",
       "      <td>Kevin Durant</td>\n",
       "      <td>1610612760</td>\n",
       "      <td>OKC</td>\n",
       "      <td>11</td>\n",
       "      <td>485</td>\n",
       "      <td>112</td>\n",
       "      <td>246</td>\n",
       "      <td>...</td>\n",
       "      <td>99</td>\n",
       "      <td>69</td>\n",
       "      <td>14</td>\n",
       "      <td>12</td>\n",
       "      <td>43</td>\n",
       "      <td>26</td>\n",
       "      <td>339</td>\n",
       "      <td>1.60</td>\n",
       "      <td>0.33</td>\n",
       "      <td>2012</td>\n",
       "    </tr>\n",
       "    <tr>\n",
       "      <th>1564</th>\n",
       "      <td>2014-15</td>\n",
       "      <td>RS</td>\n",
       "      <td>203118</td>\n",
       "      <td>Mike Scott</td>\n",
       "      <td>1610612737</td>\n",
       "      <td>ATL</td>\n",
       "      <td>68</td>\n",
       "      <td>1123</td>\n",
       "      <td>201</td>\n",
       "      <td>453</td>\n",
       "      <td>...</td>\n",
       "      <td>199</td>\n",
       "      <td>75</td>\n",
       "      <td>25</td>\n",
       "      <td>3</td>\n",
       "      <td>39</td>\n",
       "      <td>83</td>\n",
       "      <td>529</td>\n",
       "      <td>1.92</td>\n",
       "      <td>0.64</td>\n",
       "      <td>2014</td>\n",
       "    </tr>\n",
       "    <tr>\n",
       "      <th>834</th>\n",
       "      <td>2013-14</td>\n",
       "      <td>RS</td>\n",
       "      <td>200826</td>\n",
       "      <td>J.J. Barea</td>\n",
       "      <td>1610612750</td>\n",
       "      <td>MIN</td>\n",
       "      <td>79</td>\n",
       "      <td>1471</td>\n",
       "      <td>254</td>\n",
       "      <td>656</td>\n",
       "      <td>...</td>\n",
       "      <td>154</td>\n",
       "      <td>303</td>\n",
       "      <td>26</td>\n",
       "      <td>0</td>\n",
       "      <td>125</td>\n",
       "      <td>129</td>\n",
       "      <td>660</td>\n",
       "      <td>2.42</td>\n",
       "      <td>0.21</td>\n",
       "      <td>2013</td>\n",
       "    </tr>\n",
       "    <tr>\n",
       "      <th>4365</th>\n",
       "      <td>2018-19</td>\n",
       "      <td>RS</td>\n",
       "      <td>1628973</td>\n",
       "      <td>Jalen Brunson</td>\n",
       "      <td>1610612742</td>\n",
       "      <td>DAL</td>\n",
       "      <td>73</td>\n",
       "      <td>1591</td>\n",
       "      <td>264</td>\n",
       "      <td>565</td>\n",
       "      <td>...</td>\n",
       "      <td>169</td>\n",
       "      <td>230</td>\n",
       "      <td>37</td>\n",
       "      <td>4</td>\n",
       "      <td>88</td>\n",
       "      <td>127</td>\n",
       "      <td>678</td>\n",
       "      <td>2.61</td>\n",
       "      <td>0.42</td>\n",
       "      <td>2018</td>\n",
       "    </tr>\n",
       "    <tr>\n",
       "      <th>2242</th>\n",
       "      <td>2015-16</td>\n",
       "      <td>RS</td>\n",
       "      <td>203521</td>\n",
       "      <td>Matthew Dellavedova</td>\n",
       "      <td>1610612739</td>\n",
       "      <td>CLE</td>\n",
       "      <td>76</td>\n",
       "      <td>1867</td>\n",
       "      <td>207</td>\n",
       "      <td>511</td>\n",
       "      <td>...</td>\n",
       "      <td>162</td>\n",
       "      <td>337</td>\n",
       "      <td>44</td>\n",
       "      <td>9</td>\n",
       "      <td>116</td>\n",
       "      <td>178</td>\n",
       "      <td>569</td>\n",
       "      <td>2.90</td>\n",
       "      <td>0.38</td>\n",
       "      <td>2015</td>\n",
       "    </tr>\n",
       "  </tbody>\n",
       "</table>\n",
       "<p>10 rows × 29 columns</p>\n",
       "</div>"
      ],
      "text/plain": [
       "         Year Season_type  PLAYER_ID               PLAYER     TEAM_ID TEAM  \\\n",
       "5139  2019-20          RS     200782          P.J. Tucker  1610612745  HOU   \n",
       "2979  2016-17          RS    1627812         Yogi Ferrell  1610612742  DAL   \n",
       "7184  2021-22    Playoffs    1630567       Scottie Barnes  1610612761  TOR   \n",
       "6182  2020-21          RS     203658         Norvel Pelle  1610612752  NYK   \n",
       "6804  2021-22          RS     202083      Wesley Matthews  1610612749  MIL   \n",
       "474   2012-13    Playoffs     201142         Kevin Durant  1610612760  OKC   \n",
       "1564  2014-15          RS     203118           Mike Scott  1610612737  ATL   \n",
       "834   2013-14          RS     200826           J.J. Barea  1610612750  MIN   \n",
       "4365  2018-19          RS    1628973        Jalen Brunson  1610612742  DAL   \n",
       "2242  2015-16          RS     203521  Matthew Dellavedova  1610612739  CLE   \n",
       "\n",
       "      GP   MIN  FGM  FGA  ...  REB  AST  STL  BLK  TOV   PF  PTS  AST_TOV  \\\n",
       "5139  72  2467  177  426  ...  476  115   77   36   72  229  500     1.60   \n",
       "2979  46  1197  160  394  ...  111  172   42    9   70   90  462     2.46   \n",
       "7184   4   133   18   42  ...   36   17    4    1    5   12   51     3.40   \n",
       "6182  13    83    8   15  ...   19    2    1    9    3   14   20     0.67   \n",
       "6804  49  1002   87  220  ...   92   36   23    8   18   87  249     2.00   \n",
       "474   11   485  112  246  ...   99   69   14   12   43   26  339     1.60   \n",
       "1564  68  1123  201  453  ...  199   75   25    3   39   83  529     1.92   \n",
       "834   79  1471  254  656  ...  154  303   26    0  125  129  660     2.42   \n",
       "4365  73  1591  264  565  ...  169  230   37    4   88  127  678     2.61   \n",
       "2242  76  1867  207  511  ...  162  337   44    9  116  178  569     2.90   \n",
       "\n",
       "      STL_TOV  season_start_year  \n",
       "5139     1.07               2019  \n",
       "2979     0.60               2016  \n",
       "7184     0.80               2021  \n",
       "6182     0.33               2020  \n",
       "6804     1.28               2021  \n",
       "474      0.33               2012  \n",
       "1564     0.64               2014  \n",
       "834      0.21               2013  \n",
       "4365     0.42               2018  \n",
       "2242     0.38               2015  \n",
       "\n",
       "[10 rows x 29 columns]"
      ]
     },
     "execution_count": 13,
     "metadata": {},
     "output_type": "execute_result"
    }
   ],
   "source": [
    "data.sample(10)"
   ]
  },
  {
   "cell_type": "code",
   "execution_count": 14,
   "id": "bfc165c9-3882-4dd7-b9ff-7db14b3c0dae",
   "metadata": {},
   "outputs": [
    {
     "data": {
      "text/plain": [
       "{2012: 97235,\n",
       " 2013: 99251,\n",
       " 2014: 98251,\n",
       " 2015: 100351,\n",
       " 2016: 102147,\n",
       " 2017: 103729,\n",
       " 2018: 107374,\n",
       " 2019: 92997,\n",
       " 2020: 95849,\n",
       " 2021: 106569}"
      ]
     },
     "execution_count": 14,
     "metadata": {},
     "output_type": "execute_result"
    }
   ],
   "source": [
    "#Calculate total FGM per season\n",
    "fgm_per_season = {}\n",
    "for i in range(min(data['season_start_year']), max(data['season_start_year']) +1):\n",
    "    fgm_sum = int(data[data['season_start_year'] == i]['FGM'].sum())\n",
    "    fgm_per_season[i] = fgm_sum\n",
    "fgm_per_season"
   ]
  },
  {
   "cell_type": "code",
   "execution_count": 15,
   "id": "694af399-52be-408e-a40c-6983c17353d1",
   "metadata": {},
   "outputs": [
    {
     "data": {
      "text/plain": [
       "{2012: 18808,\n",
       " 2013: 20480,\n",
       " 2014: 20724,\n",
       " 2015: 22524,\n",
       " 2016: 25408,\n",
       " 2017: 27530,\n",
       " 2018: 29817,\n",
       " 2019: 28032,\n",
       " 2020: 29549,\n",
       " 2021: 32733}"
      ]
     },
     "execution_count": 15,
     "metadata": {},
     "output_type": "execute_result"
    }
   ],
   "source": [
    "#Calculate total 3PM per season\n",
    "threes_per_season = {}\n",
    "for i in range(min(data['season_start_year']), max(data['season_start_year']) +1):\n",
    "    threes_sum = int(data[data['season_start_year'] == i]['FG3M'].sum())\n",
    "    threes_per_season[i] = threes_sum\n",
    "threes_per_season"
   ]
  },
  {
   "cell_type": "code",
   "execution_count": 16,
   "id": "686825f4-9c5d-4237-8a6b-c315fc5511de",
   "metadata": {},
   "outputs": [
    {
     "data": {
      "text/plain": [
       "{2012: 52569,\n",
       " 2013: 56952,\n",
       " 2014: 59276,\n",
       " 2015: 63673,\n",
       " 2016: 71018,\n",
       " 2017: 76245,\n",
       " 2018: 84143,\n",
       " 2019: 78279,\n",
       " 2020: 80653,\n",
       " 2021: 92552}"
      ]
     },
     "execution_count": 16,
     "metadata": {},
     "output_type": "execute_result"
    }
   ],
   "source": [
    "#Calculate total 3PA per season\n",
    "threes_attempted_per_season = {}\n",
    "for i in range(min(data['season_start_year']), max(data['season_start_year']) +1):\n",
    "    threes_attempted_sum = int(data[data['season_start_year'] == i]['FG3A'].sum())\n",
    "    threes_attempted_per_season[i] = threes_attempted_sum\n",
    "threes_attempted_per_season"
   ]
  },
  {
   "cell_type": "code",
   "execution_count": 17,
   "id": "a5afdc84-c76a-469c-9f0f-e8d32b955457",
   "metadata": {},
   "outputs": [
    {
     "data": {
      "text/plain": [
       "{2012: 257403,\n",
       " 2013: 266201,\n",
       " 2014: 262324,\n",
       " 2015: 269742,\n",
       " 2016: 276508,\n",
       " 2017: 278709,\n",
       " 2018: 291236,\n",
       " 2019: 254975,\n",
       " 2020: 260871,\n",
       " 2021: 290611}"
      ]
     },
     "execution_count": 17,
     "metadata": {},
     "output_type": "execute_result"
    }
   ],
   "source": [
    "#Calculate total points per season\n",
    "pts_per_season = {}\n",
    "for i in range(min(data['season_start_year']), max(data['season_start_year']) +1):\n",
    "    pts_sum = int(data[data['season_start_year'] == i]['PTS'].sum())\n",
    "    pts_per_season[i] = pts_sum\n",
    "pts_per_season"
   ]
  },
  {
   "cell_type": "code",
   "execution_count": 18,
   "id": "d0ca3ff8-7ee0-4c30-8f6c-d0a6d45c7bf8",
   "metadata": {},
   "outputs": [
    {
     "data": {
      "text/html": [
       "<div>\n",
       "<style scoped>\n",
       "    .dataframe tbody tr th:only-of-type {\n",
       "        vertical-align: middle;\n",
       "    }\n",
       "\n",
       "    .dataframe tbody tr th {\n",
       "        vertical-align: top;\n",
       "    }\n",
       "\n",
       "    .dataframe thead th {\n",
       "        text-align: right;\n",
       "    }\n",
       "</style>\n",
       "<table border=\"1\" class=\"dataframe\">\n",
       "  <thead>\n",
       "    <tr style=\"text-align: right;\">\n",
       "      <th></th>\n",
       "      <th>season</th>\n",
       "      <th>season_start_year</th>\n",
       "      <th>FGM</th>\n",
       "      <th>3PA</th>\n",
       "      <th>3PM</th>\n",
       "      <th>PTS</th>\n",
       "    </tr>\n",
       "  </thead>\n",
       "  <tbody>\n",
       "    <tr>\n",
       "      <th>0</th>\n",
       "      <td>2012-13</td>\n",
       "      <td>2012</td>\n",
       "      <td>97235</td>\n",
       "      <td>52569</td>\n",
       "      <td>18808</td>\n",
       "      <td>257403</td>\n",
       "    </tr>\n",
       "    <tr>\n",
       "      <th>1</th>\n",
       "      <td>2013-14</td>\n",
       "      <td>2013</td>\n",
       "      <td>99251</td>\n",
       "      <td>56952</td>\n",
       "      <td>20480</td>\n",
       "      <td>266201</td>\n",
       "    </tr>\n",
       "    <tr>\n",
       "      <th>2</th>\n",
       "      <td>2014-15</td>\n",
       "      <td>2014</td>\n",
       "      <td>98251</td>\n",
       "      <td>59276</td>\n",
       "      <td>20724</td>\n",
       "      <td>262324</td>\n",
       "    </tr>\n",
       "    <tr>\n",
       "      <th>3</th>\n",
       "      <td>2015-16</td>\n",
       "      <td>2015</td>\n",
       "      <td>100351</td>\n",
       "      <td>63673</td>\n",
       "      <td>22524</td>\n",
       "      <td>269742</td>\n",
       "    </tr>\n",
       "    <tr>\n",
       "      <th>4</th>\n",
       "      <td>2016-17</td>\n",
       "      <td>2016</td>\n",
       "      <td>102147</td>\n",
       "      <td>71018</td>\n",
       "      <td>25408</td>\n",
       "      <td>276508</td>\n",
       "    </tr>\n",
       "    <tr>\n",
       "      <th>5</th>\n",
       "      <td>2017-18</td>\n",
       "      <td>2017</td>\n",
       "      <td>103729</td>\n",
       "      <td>76245</td>\n",
       "      <td>27530</td>\n",
       "      <td>278709</td>\n",
       "    </tr>\n",
       "    <tr>\n",
       "      <th>6</th>\n",
       "      <td>2018-19</td>\n",
       "      <td>2018</td>\n",
       "      <td>107374</td>\n",
       "      <td>84143</td>\n",
       "      <td>29817</td>\n",
       "      <td>291236</td>\n",
       "    </tr>\n",
       "    <tr>\n",
       "      <th>7</th>\n",
       "      <td>2019-20</td>\n",
       "      <td>2019</td>\n",
       "      <td>92997</td>\n",
       "      <td>78279</td>\n",
       "      <td>28032</td>\n",
       "      <td>254975</td>\n",
       "    </tr>\n",
       "    <tr>\n",
       "      <th>8</th>\n",
       "      <td>2020-21</td>\n",
       "      <td>2020</td>\n",
       "      <td>95849</td>\n",
       "      <td>80653</td>\n",
       "      <td>29549</td>\n",
       "      <td>260871</td>\n",
       "    </tr>\n",
       "    <tr>\n",
       "      <th>9</th>\n",
       "      <td>2021-22</td>\n",
       "      <td>2021</td>\n",
       "      <td>106569</td>\n",
       "      <td>92552</td>\n",
       "      <td>32733</td>\n",
       "      <td>290611</td>\n",
       "    </tr>\n",
       "  </tbody>\n",
       "</table>\n",
       "</div>"
      ],
      "text/plain": [
       "    season  season_start_year     FGM    3PA    3PM     PTS\n",
       "0  2012-13               2012   97235  52569  18808  257403\n",
       "1  2013-14               2013   99251  56952  20480  266201\n",
       "2  2014-15               2014   98251  59276  20724  262324\n",
       "3  2015-16               2015  100351  63673  22524  269742\n",
       "4  2016-17               2016  102147  71018  25408  276508\n",
       "5  2017-18               2017  103729  76245  27530  278709\n",
       "6  2018-19               2018  107374  84143  29817  291236\n",
       "7  2019-20               2019   92997  78279  28032  254975\n",
       "8  2020-21               2020   95849  80653  29549  260871\n",
       "9  2021-22               2021  106569  92552  32733  290611"
      ]
     },
     "execution_count": 18,
     "metadata": {},
     "output_type": "execute_result"
    }
   ],
   "source": [
    "#Put all per season stats into a single dataframe\n",
    "stats_df = pd.DataFrame(columns = ['season', 'season_start_year', 'FGM', '3PA', '3PM', 'PTS'])\n",
    "stats_df['season'] = data['Year'].unique()\n",
    "stats_df['season_start_year'] = fgm_per_season.keys()\n",
    "stats_df['FGM'] = fgm_per_season.values()\n",
    "stats_df['3PA'] = threes_attempted_per_season.values()\n",
    "stats_df['3PM'] = threes_per_season.values()\n",
    "stats_df['PTS'] = pts_per_season.values()\n",
    "stats_df"
   ]
  },
  {
   "cell_type": "code",
   "execution_count": 19,
   "id": "1ffbe835-c054-45ce-ae9a-2cedc68a87e9",
   "metadata": {},
   "outputs": [],
   "source": [
    "#Remove 2019-2020 and 2020-2021 seasons\n",
    "stats_df = stats_df[(stats_df['season_start_year'] != 2019) & (stats_df['season_start_year'] != 2020)]"
   ]
  },
  {
   "cell_type": "code",
   "execution_count": 20,
   "id": "a099125f-3199-4748-b034-ecb899af91da",
   "metadata": {},
   "outputs": [
    {
     "name": "stderr",
     "output_type": "stream",
     "text": [
      "C:\\Users\\zacha\\AppData\\Local\\Temp\\ipykernel_14984\\2562696141.py:2: SettingWithCopyWarning: \n",
      "A value is trying to be set on a copy of a slice from a DataFrame.\n",
      "Try using .loc[row_indexer,col_indexer] = value instead\n",
      "\n",
      "See the caveats in the documentation: https://pandas.pydata.org/pandas-docs/stable/user_guide/indexing.html#returning-a-view-versus-a-copy\n",
      "  stats_df['3P%'] = stats_df['3PM'] / stats_df['3PA']\n"
     ]
    },
    {
     "data": {
      "text/plain": [
       "0    0.357777\n",
       "1    0.359601\n",
       "2    0.349619\n",
       "3    0.353745\n",
       "4    0.357768\n",
       "5    0.361073\n",
       "6    0.354361\n",
       "9    0.353671\n",
       "Name: 3P%, dtype: float64"
      ]
     },
     "execution_count": 20,
     "metadata": {},
     "output_type": "execute_result"
    }
   ],
   "source": [
    "#Calculate 3P% by season\n",
    "stats_df['3P%'] = stats_df['3PM'] / stats_df['3PA']\n",
    "stats_df['3P%']"
   ]
  },
  {
   "cell_type": "code",
   "execution_count": 21,
   "id": "756fb9bf-1fd4-4215-abf6-5706a0bc3f1f",
   "metadata": {},
   "outputs": [],
   "source": [
    "#Create a dataframe for the change in FGM, 3PA, 3PM, PTS from the previous season\n",
    "diff = stats_df[['FGM', '3PA', '3PM', 'PTS']].diff()"
   ]
  },
  {
   "cell_type": "code",
   "execution_count": 22,
   "id": "3567c4b8-265b-48d4-a04c-5e43fed71631",
   "metadata": {},
   "outputs": [
    {
     "data": {
      "image/png": "[encoded data removed]",
      "text/plain": [
       "<Figure size 640x480 with 1 Axes>"
      ]
     },
     "metadata": {},
     "output_type": "display_data"
    }
   ],
   "source": [
    "#Plot PTS by season\n",
    "plt.plot(stats_df['season'], stats_df['PTS'])\n",
    "plt.xticks(stats_df['season'], rotation=45)\n",
    "plt.title('PTS by Season')\n",
    "plt.show()"
   ]
  },
  {
   "cell_type": "code",
   "execution_count": 23,
   "id": "546d198d-553e-46c4-b9f7-b96c991c750f",
   "metadata": {},
   "outputs": [
    {
     "name": "stdout",
     "output_type": "stream",
     "text": [
      "Maximum Increase: 12527.0 points, Average Increase: 4744.0 points\n"
     ]
    }
   ],
   "source": [
    "#Display max increase in pts and avg increase in pts \n",
    "pts_max_diff = np.nanmax(diff['PTS'])\n",
    "pts_avg_increase = np.nanmean(diff['PTS'])\n",
    "print('Maximum Increase: ' + str(pts_max_diff) + ' points, Average Increase: ' + str(pts_avg_increase) + ' points') "
   ]
  },
  {
   "cell_type": "code",
   "execution_count": 24,
   "id": "33eff099-7c9b-4d42-aba5-fc337bba9bc7",
   "metadata": {},
   "outputs": [
    {
     "data": {
      "image/png": "[encoded data removed]",
      "text/plain": [
       "<Figure size 640x480 with 1 Axes>"
      ]
     },
     "metadata": {},
     "output_type": "display_data"
    }
   ],
   "source": [
    "#Display FGM by season\n",
    "plt.plot(stats_df['season'], stats_df['FGM'])\n",
    "plt.xticks(stats_df['season'], rotation=45)\n",
    "plt.title('FGM by Season')\n",
    "plt.show()"
   ]
  },
  {
   "cell_type": "code",
   "execution_count": 25,
   "id": "d7b29b43-78a0-46f5-acbe-c163c8ef9d11",
   "metadata": {},
   "outputs": [
    {
     "name": "stdout",
     "output_type": "stream",
     "text": [
      "Maximum Increase: 3645.0 field goals, Average Increase: 1333.4285714285713 field goals\n"
     ]
    }
   ],
   "source": [
    "#Display max increase in FGM and avg increase in FGM \n",
    "fgm_max_diff = np.nanmax(diff['FGM'])\n",
    "fgm_avg_increase = np.nanmean(diff['FGM'])\n",
    "print('Maximum Increase: ' + str(fgm_max_diff) + ' field goals, Average Increase: ' + str(fgm_avg_increase) + ' field goals') "
   ]
  },
  {
   "cell_type": "code",
   "execution_count": 26,
   "id": "de7b711e-7f4e-422f-8a70-0416e461c5b9",
   "metadata": {},
   "outputs": [
    {
     "data": {
      "image/png": "[encoded data removed]",
      "text/plain": [
       "<Figure size 640x480 with 1 Axes>"
      ]
     },
     "metadata": {},
     "output_type": "display_data"
    }
   ],
   "source": [
    "#Plot 3PM by season\n",
    "plt.plot(stats_df['season'], stats_df['3PM'])\n",
    "plt.xticks(stats_df['season'], rotation=45)\n",
    "plt.title('3PM by Season')\n",
    "plt.show()"
   ]
  },
  {
   "cell_type": "code",
   "execution_count": 27,
   "id": "199a5dd2-ad6d-4ec5-8eae-437f5071f666",
   "metadata": {},
   "outputs": [
    {
     "name": "stdout",
     "output_type": "stream",
     "text": [
      "Maximum Increase: 2916.0 3 pointers made, Average Increase: 1989.2857142857142 3 pointers made\n"
     ]
    }
   ],
   "source": [
    "#Display max increase in 3PM and avg increase in 3PM\n",
    "threes_max_diff = np.nanmax(diff['3PM'])\n",
    "threes_avg_increase = np.nanmean(diff['3PM'])\n",
    "print('Maximum Increase: ' + str(threes_max_diff) + ' 3 pointers made, Average Increase: ' + str(threes_avg_increase) + ' 3 pointers made') "
   ]
  },
  {
   "cell_type": "code",
   "execution_count": 28,
   "id": "7094557c-87c6-4dbd-b0fc-9805f02920f2",
   "metadata": {},
   "outputs": [
    {
     "data": {
      "image/png": "[encoded data removed]",
      "text/plain": [
       "<Figure size 640x480 with 1 Axes>"
      ]
     },
     "metadata": {},
     "output_type": "display_data"
    }
   ],
   "source": [
    "#Plot 3PA by season\n",
    "plt.plot(stats_df['season'], stats_df['3PA'])\n",
    "plt.xticks(stats_df['season'], rotation=45)\n",
    "plt.title('3PA by Season')\n",
    "plt.show()"
   ]
  },
  {
   "cell_type": "code",
   "execution_count": 29,
   "id": "845f1f47-31f1-423a-b36b-2da143457a75",
   "metadata": {},
   "outputs": [
    {
     "name": "stdout",
     "output_type": "stream",
     "text": [
      "Maximum Increase: 8409.0 3s attempted, Average Increase: 5711.857142857143 3s attempted\n"
     ]
    }
   ],
   "source": [
    "#Display max increase in 3PA and avg increase in 3PA\n",
    "threes_attempted_max_diff = np.nanmax(diff['3PA'])\n",
    "threes_attempted_avg_increase = np.nanmean(diff['3PA'])\n",
    "print('Maximum Increase: ' + str(threes_attempted_max_diff) + ' 3s attempted, Average Increase: ' + str(threes_attempted_avg_increase) + ' 3s attempted') "
   ]
  },
  {
   "cell_type": "code",
   "execution_count": 30,
   "id": "1f3bf5d6-2d3e-4f48-b41e-a6ff9fa9e5a1",
   "metadata": {},
   "outputs": [
    {
     "data": {
      "image/png": "[encoded data removed]",
      "text/plain": [
       "<Figure size 640x480 with 1 Axes>"
      ]
     },
     "metadata": {},
     "output_type": "display_data"
    }
   ],
   "source": [
    "#Display scatter plot of 3PM vs 3PA\n",
    "plt.scatter(stats_df['3PM'], stats_df['3PA'])\n",
    "plt.title('3PM vs 3PA')\n",
    "plt.show()"
   ]
  },
  {
   "cell_type": "code",
   "execution_count": 31,
   "id": "4e838121-1902-4c9b-9574-929cbed38d26",
   "metadata": {},
   "outputs": [
    {
     "data": {
      "image/png": "[encoded data removed]",
      "text/plain": [
       "<Figure size 640x480 with 1 Axes>"
      ]
     },
     "metadata": {},
     "output_type": "display_data"
    }
   ],
   "source": [
    "#Display scatter plot of PTS vs 3PM\n",
    "plt.scatter(stats_df['PTS'], stats_df['3PM'])\n",
    "plt.title('PTS vs 3PM')\n",
    "plt.show()"
   ]
  },
  {
   "cell_type": "code",
   "execution_count": 32,
   "id": "7afabfb6-46ef-47ab-bdc9-ae9d7e612c35",
   "metadata": {},
   "outputs": [
    {
     "data": {
      "image/png": "[encoded data removed]",
      "text/plain": [
       "<Figure size 640x480 with 1 Axes>"
      ]
     },
     "metadata": {},
     "output_type": "display_data"
    }
   ],
   "source": [
    "#Plot 3P% by season\n",
    "plt.plot(stats_df['season'], stats_df['3P%'])\n",
    "plt.xticks(stats_df['season'], rotation=45)\n",
    "plt.title('3P% by Season')\n",
    "plt.show()"
   ]
  },
  {
   "cell_type": "code",
   "execution_count": 33,
   "id": "6e52d64f-5b46-4c1d-afc6-2f35edb1d584",
   "metadata": {},
   "outputs": [
    {
     "data": {
      "image/png": "[encoded data removed]",
      "text/plain": [
       "<Figure size 640x480 with 1 Axes>"
      ]
     },
     "metadata": {},
     "output_type": "display_data"
    }
   ],
   "source": [
    "#Display scatter plot of 3P% vs PTS\n",
    "plt.scatter(stats_df['3P%'], stats_df['PTS'])\n",
    "plt.title('3P% vs PTS')\n",
    "plt.show()"
   ]
  },
  {
   "cell_type": "markdown",
   "id": "fa754d10-1a52-405e-ad9c-9103746da928",
   "metadata": {},
   "source": [
    "Conclusion: Points per season have been increasing steadily, likely due to the increase in 3PM and 3PA over the years. Interestingly, 3P% has remained robust over the years suggesting 3P% does not make a big impact on the rise of points."
   ]
  }
 ],
 "metadata": {
  "kernelspec": {
   "display_name": "Python 3 (ipykernel)",
   "language": "python",
   "name": "python3"
  },
  "language_info": {
   "codemirror_mode": {
    "name": "ipython",
    "version": 3
   },
   "file_extension": ".py",
   "mimetype": "text/x-python",
   "name": "python",
   "nbconvert_exporter": "python",
   "pygments_lexer": "ipython3",
   "version": "3.12.5"
  }
 },
 "nbformat": 4,
 "nbformat_minor": 5
}
